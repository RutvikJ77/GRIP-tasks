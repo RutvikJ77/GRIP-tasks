{
 "metadata": {
  "language_info": {
   "codemirror_mode": {
    "name": "ipython",
    "version": 3
   },
   "file_extension": ".py",
   "mimetype": "text/x-python",
   "name": "python",
   "nbconvert_exporter": "python",
   "pygments_lexer": "ipython3",
   "version": "3.8.3-final"
  },
  "orig_nbformat": 2,
  "kernelspec": {
   "name": "python3",
   "display_name": "Python 3.8.3 64-bit ('anaconda3': virtualenv)",
   "metadata": {
    "interpreter": {
     "hash": "e134e05457d34029b6460cd73bbf1ed73f339b5b6d98c95be70b69eba114fe95"
    }
   }
  }
 },
 "nbformat": 4,
 "nbformat_minor": 2,
 "cells": [
  {
   "cell_type": "code",
   "execution_count": null,
   "metadata": {},
   "outputs": [],
   "source": [
    "# Name - Rutvik Joshi\n",
    "# Sport analyst"
   ]
  },
  {
   "cell_type": "code",
   "execution_count": 2,
   "metadata": {},
   "outputs": [],
   "source": [
    "# Necessary imports\n",
    "import pandas as pd\n",
    "import numpy as np"
   ]
  },
  {
   "cell_type": "code",
   "execution_count": 3,
   "metadata": {},
   "outputs": [
    {
     "output_type": "execute_result",
     "data": {
      "text/plain": [
       "   id  season       city        date                        team1  \\\n",
       "0   1    2017  Hyderabad  2017-04-05          Sunrisers Hyderabad   \n",
       "1   2    2017       Pune  2017-04-06               Mumbai Indians   \n",
       "2   3    2017     Rajkot  2017-04-07                Gujarat Lions   \n",
       "3   4    2017     Indore  2017-04-08       Rising Pune Supergiant   \n",
       "4   5    2017  Bangalore  2017-04-08  Royal Challengers Bangalore   \n",
       "\n",
       "                         team2                  toss_winner toss_decision  \\\n",
       "0  Royal Challengers Bangalore  Royal Challengers Bangalore         field   \n",
       "1       Rising Pune Supergiant       Rising Pune Supergiant         field   \n",
       "2        Kolkata Knight Riders        Kolkata Knight Riders         field   \n",
       "3              Kings XI Punjab              Kings XI Punjab         field   \n",
       "4             Delhi Daredevils  Royal Challengers Bangalore           bat   \n",
       "\n",
       "   result  dl_applied                       winner  win_by_runs  \\\n",
       "0  normal           0          Sunrisers Hyderabad           35   \n",
       "1  normal           0       Rising Pune Supergiant            0   \n",
       "2  normal           0        Kolkata Knight Riders            0   \n",
       "3  normal           0              Kings XI Punjab            0   \n",
       "4  normal           0  Royal Challengers Bangalore           15   \n",
       "\n",
       "   win_by_wickets player_of_match                                      venue  \\\n",
       "0               0    Yuvraj Singh  Rajiv Gandhi International Stadium, Uppal   \n",
       "1               7       SPD Smith    Maharashtra Cricket Association Stadium   \n",
       "2              10         CA Lynn     Saurashtra Cricket Association Stadium   \n",
       "3               6      GJ Maxwell                     Holkar Cricket Stadium   \n",
       "4               0       KM Jadhav                      M Chinnaswamy Stadium   \n",
       "\n",
       "          umpire1        umpire2 umpire3  \n",
       "0     AY Dandekar       NJ Llong     NaN  \n",
       "1  A Nand Kishore         S Ravi     NaN  \n",
       "2     Nitin Menon      CK Nandan     NaN  \n",
       "3    AK Chaudhary  C Shamshuddin     NaN  \n",
       "4             NaN            NaN     NaN  "
      ],
      "text/html": "<div>\n<style scoped>\n    .dataframe tbody tr th:only-of-type {\n        vertical-align: middle;\n    }\n\n    .dataframe tbody tr th {\n        vertical-align: top;\n    }\n\n    .dataframe thead th {\n        text-align: right;\n    }\n</style>\n<table border=\"1\" class=\"dataframe\">\n  <thead>\n    <tr style=\"text-align: right;\">\n      <th></th>\n      <th>id</th>\n      <th>season</th>\n      <th>city</th>\n      <th>date</th>\n      <th>team1</th>\n      <th>team2</th>\n      <th>toss_winner</th>\n      <th>toss_decision</th>\n      <th>result</th>\n      <th>dl_applied</th>\n      <th>winner</th>\n      <th>win_by_runs</th>\n      <th>win_by_wickets</th>\n      <th>player_of_match</th>\n      <th>venue</th>\n      <th>umpire1</th>\n      <th>umpire2</th>\n      <th>umpire3</th>\n    </tr>\n  </thead>\n  <tbody>\n    <tr>\n      <th>0</th>\n      <td>1</td>\n      <td>2017</td>\n      <td>Hyderabad</td>\n      <td>2017-04-05</td>\n      <td>Sunrisers Hyderabad</td>\n      <td>Royal Challengers Bangalore</td>\n      <td>Royal Challengers Bangalore</td>\n      <td>field</td>\n      <td>normal</td>\n      <td>0</td>\n      <td>Sunrisers Hyderabad</td>\n      <td>35</td>\n      <td>0</td>\n      <td>Yuvraj Singh</td>\n      <td>Rajiv Gandhi International Stadium, Uppal</td>\n      <td>AY Dandekar</td>\n      <td>NJ Llong</td>\n      <td>NaN</td>\n    </tr>\n    <tr>\n      <th>1</th>\n      <td>2</td>\n      <td>2017</td>\n      <td>Pune</td>\n      <td>2017-04-06</td>\n      <td>Mumbai Indians</td>\n      <td>Rising Pune Supergiant</td>\n      <td>Rising Pune Supergiant</td>\n      <td>field</td>\n      <td>normal</td>\n      <td>0</td>\n      <td>Rising Pune Supergiant</td>\n      <td>0</td>\n      <td>7</td>\n      <td>SPD Smith</td>\n      <td>Maharashtra Cricket Association Stadium</td>\n      <td>A Nand Kishore</td>\n      <td>S Ravi</td>\n      <td>NaN</td>\n    </tr>\n    <tr>\n      <th>2</th>\n      <td>3</td>\n      <td>2017</td>\n      <td>Rajkot</td>\n      <td>2017-04-07</td>\n      <td>Gujarat Lions</td>\n      <td>Kolkata Knight Riders</td>\n      <td>Kolkata Knight Riders</td>\n      <td>field</td>\n      <td>normal</td>\n      <td>0</td>\n      <td>Kolkata Knight Riders</td>\n      <td>0</td>\n      <td>10</td>\n      <td>CA Lynn</td>\n      <td>Saurashtra Cricket Association Stadium</td>\n      <td>Nitin Menon</td>\n      <td>CK Nandan</td>\n      <td>NaN</td>\n    </tr>\n    <tr>\n      <th>3</th>\n      <td>4</td>\n      <td>2017</td>\n      <td>Indore</td>\n      <td>2017-04-08</td>\n      <td>Rising Pune Supergiant</td>\n      <td>Kings XI Punjab</td>\n      <td>Kings XI Punjab</td>\n      <td>field</td>\n      <td>normal</td>\n      <td>0</td>\n      <td>Kings XI Punjab</td>\n      <td>0</td>\n      <td>6</td>\n      <td>GJ Maxwell</td>\n      <td>Holkar Cricket Stadium</td>\n      <td>AK Chaudhary</td>\n      <td>C Shamshuddin</td>\n      <td>NaN</td>\n    </tr>\n    <tr>\n      <th>4</th>\n      <td>5</td>\n      <td>2017</td>\n      <td>Bangalore</td>\n      <td>2017-04-08</td>\n      <td>Royal Challengers Bangalore</td>\n      <td>Delhi Daredevils</td>\n      <td>Royal Challengers Bangalore</td>\n      <td>bat</td>\n      <td>normal</td>\n      <td>0</td>\n      <td>Royal Challengers Bangalore</td>\n      <td>15</td>\n      <td>0</td>\n      <td>KM Jadhav</td>\n      <td>M Chinnaswamy Stadium</td>\n      <td>NaN</td>\n      <td>NaN</td>\n      <td>NaN</td>\n    </tr>\n  </tbody>\n</table>\n</div>"
     },
     "metadata": {},
     "execution_count": 3
    }
   ],
   "source": [
    "# Reading necessary data files.\n",
    "df_matches = pd.read_csv('./matches.csv')\n",
    "df_deliveries = pd.read_csv('./deliveries.csv')\n",
    "df_matches.head()"
   ]
  },
  {
   "cell_type": "code",
   "execution_count": 8,
   "metadata": {},
   "outputs": [
    {
     "output_type": "execute_result",
     "data": {
      "text/plain": [
       "Mumbai Indians                 109\n",
       "Chennai Super Kings            100\n",
       "Kolkata Knight Riders           92\n",
       "Royal Challengers Bangalore     84\n",
       "Kings XI Punjab                 82\n",
       "Rajasthan Royals                75\n",
       "Delhi Daredevils                67\n",
       "Sunrisers Hyderabad             58\n",
       "Deccan Chargers                 29\n",
       "Gujarat Lions                   13\n",
       "Name: winner, dtype: int64"
      ]
     },
     "metadata": {},
     "execution_count": 8
    }
   ],
   "source": [
    "# Overall winners throughout the dataset.\n",
    "df_matches['winner'].value_counts()[:10]"
   ]
  },
  {
   "cell_type": "code",
   "execution_count": 7,
   "metadata": {},
   "outputs": [
    {
     "output_type": "execute_result",
     "data": {
      "text/plain": [
       "CH Gayle          21\n",
       "AB de Villiers    20\n",
       "DA Warner         17\n",
       "RG Sharma         17\n",
       "MS Dhoni          17\n",
       "Name: player_of_match, dtype: int64"
      ]
     },
     "metadata": {},
     "execution_count": 7
    }
   ],
   "source": [
    "df_matches['player_of_match'].value_counts()[:5]"
   ]
  }
 ]
}